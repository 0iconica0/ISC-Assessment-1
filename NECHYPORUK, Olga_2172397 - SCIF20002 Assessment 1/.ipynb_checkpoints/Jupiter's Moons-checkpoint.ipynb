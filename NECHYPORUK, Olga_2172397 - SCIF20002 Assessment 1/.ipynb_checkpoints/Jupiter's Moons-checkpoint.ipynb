{
 "cells": [
  {
   "cell_type": "markdown",
   "id": "3e41c28b",
   "metadata": {},
   "source": [
    "Olga Nechyporuk -- 2172397"
   ]
  },
  {
   "cell_type": "markdown",
   "id": "aefe9ac1",
   "metadata": {},
   "source": [
    "#### ~ Task 1 ~"
   ]
  },
  {
   "cell_type": "markdown",
   "id": "56d5d102",
   "metadata": {},
   "source": [
    "In this Notebook we will analyse a dataset that has data on a large subset of Jupiter's moons (currently thought to be 95 in total), and take you through a guide on how to use the Moons class for that. "
   ]
  },
  {
   "cell_type": "markdown",
   "id": "ccac079e",
   "metadata": {},
   "source": [
    "Let's import some necessary modules:"
   ]
  },
  {
   "cell_type": "code",
   "execution_count": 1,
   "id": "b72faa56",
   "metadata": {},
   "outputs": [],
   "source": [
    "# Import relevant packages\n",
    "import pandas as pd\n",
    "import numpy as np\n",
    "import matplotlib.pyplot as plt\n",
    "import math\n",
    "pi = math.pi  # for estimating mass of Jupiter"
   ]
  },
  {
   "cell_type": "code",
   "execution_count": 2,
   "id": "e8d17edb",
   "metadata": {},
   "outputs": [],
   "source": [
    "# Import the relevant model from sklearn, for the linear regression model\n",
    "from sklearn import linear_model\n",
    "from sklearn.model_selection import train_test_split\n",
    "from sklearn.metrics import r2_score, mean_squared_error\n",
    "# Create an instance of the model\n",
    "model = linear_model.LinearRegression(fit_intercept=True)"
   ]
  },
  {
   "cell_type": "markdown",
   "id": "fbe16422",
   "metadata": {},
   "source": [
    "Now import the module and class we'll learn to use in this notebook. "
   ]
  },
  {
   "cell_type": "code",
   "execution_count": 3,
   "id": "7d34b27b",
   "metadata": {},
   "outputs": [],
   "source": [
    "# Import the Moons class we're working through/showcasing in this notebook\n",
    "import jupitermoonsclass "
   ]
  },
  {
   "cell_type": "code",
   "execution_count": 4,
   "id": "49a385e9",
   "metadata": {},
   "outputs": [
    {
     "name": "stdout",
     "output_type": "stream",
     "text": [
      "Our connectable for our database is sqlite:///jupiter.db\n"
     ]
    }
   ],
   "source": [
    "# Import required class from own module, as well as equate the dataset to 'moons' (which is done through SQL)\n",
    "moons = jupitermoonsclass.Moons(\"sqlite\", \"jupiter.db\", \"moons\") "
   ]
  },
  {
   "cell_type": "markdown",
   "id": "6c0df100",
   "metadata": {},
   "source": [
    "First, let us look at a quick overview of the dataset with '.summary()"
   ]
  },
  {
   "cell_type": "code",
   "execution_count": 5,
   "id": "cebf1ba6",
   "metadata": {
    "scrolled": false
   },
   "outputs": [
    {
     "name": "stdout",
     "output_type": "stream",
     "text": [
      "Data Head: \n",
      "       moon  period_days  distance_km  radius_km   mag       mass_kg  \\\n",
      "0  Adrastea        0.298     129000.0        8.2   NaN           NaN   \n",
      "1     Aitne      730.000   23231000.0        1.5  22.7           NaN   \n",
      "2  Amalthea        0.498     181400.0       83.5  14.1  2.080000e+18   \n",
      "3    Ananke      630.000   21300000.0       14.0  18.9           NaN   \n",
      "4     Aoede      761.000   24000000.0        2.0  22.5           NaN   \n",
      "\n",
      "      group       ecc  inclination_deg  \n",
      "0     Inner  0.001500             0.03  \n",
      "1     Carme  0.264000           165.00  \n",
      "2     Inner  0.003190             0.37  \n",
      "3    Ananke  0.174725           148.60  \n",
      "4  Pasiphae  0.432000           158.00  \n",
      "\n",
      "Data Describe: \n",
      "       period_days   distance_km    radius_km        mag       mass_kg  \\\n",
      "count    56.000000  5.600000e+01    56.000000  53.000000  6.000000e+00   \n",
      "mean    525.998146  1.775655e+07   158.969643  20.418302  6.551798e+22   \n",
      "std     272.670243  8.253688e+06   557.730632   4.926587  6.010469e+22   \n",
      "min       0.290000  1.280000e+05     1.000000   4.610000  2.080000e+18   \n",
      "25%     258.750000  1.170252e+07     1.500000  20.800000  1.200276e+22   \n",
      "50%     632.500000  2.129009e+07     2.000000  22.500000  6.865891e+22   \n",
      "75%     725.500000  2.336375e+07    11.562500  23.000000  1.030252e+23   \n",
      "max     787.000000  2.458309e+07  2634.100000  23.700000  1.481900e+23   \n",
      "\n",
      "             ecc  inclination_deg  \n",
      "count  56.000000        56.000000  \n",
      "mean    0.222922       113.571607  \n",
      "std     0.126899        64.562822  \n",
      "min     0.000200         0.030000  \n",
      "25%     0.159201        30.582500  \n",
      "50%     0.228000       148.600000  \n",
      "75%     0.298858       159.175000  \n",
      "max     0.611016       166.200000  \n",
      "\n",
      "<class 'pandas.core.frame.DataFrame'>\n",
      "RangeIndex: 56 entries, 0 to 55\n",
      "Data columns (total 9 columns):\n",
      " #   Column           Non-Null Count  Dtype  \n",
      "---  ------           --------------  -----  \n",
      " 0   moon             56 non-null     object \n",
      " 1   period_days      56 non-null     float64\n",
      " 2   distance_km      56 non-null     float64\n",
      " 3   radius_km        56 non-null     float64\n",
      " 4   mag              53 non-null     float64\n",
      " 5   mass_kg          6 non-null      float64\n",
      " 6   group            56 non-null     object \n",
      " 7   ecc              56 non-null     float64\n",
      " 8   inclination_deg  56 non-null     float64\n",
      "dtypes: float64(7), object(2)\n",
      "memory usage: 4.1+ KB\n",
      "Data Info: \n",
      "None\n"
     ]
    }
   ],
   "source": [
    "moons.summary()"
   ]
  },
  {
   "cell_type": "markdown",
   "id": "7daa4f7c",
   "metadata": {},
   "source": [
    "Here we can see the 'head' of the dataset, which shows us the columns and their names and a few rows, as well as 'describe' which shows some simple statistical analysis of said columns, excluding non-numerical (object type) columns. The 'info' table shows us some more useful information.\n",
    "\n",
    "For example, amongst all the moons in the dataset, we can see that: \n",
    " - The average/mean of period days is ~ 525.998 days\n",
    " - The maximum radius is ~ 2634.1 km \n",
    " - Only 6 moons have a known mass (6 non-null entries)\n",
    " - Two columns are of type 'object'\n",
    "etc."
   ]
  },
  {
   "cell_type": "markdown",
   "id": "22f8abbf",
   "metadata": {},
   "source": [
    "If we want to see some analysis of the non-numerical data, we can use 'grouped_summary()', in which we state the variable to group by - in this case \"group\"."
   ]
  },
  {
   "cell_type": "code",
   "execution_count": 6,
   "id": "984428c0",
   "metadata": {
    "scrolled": true
   },
   "outputs": [
    {
     "name": "stdout",
     "output_type": "stream",
     "text": [
      "Data of group: Max:               moon  period_days  distance_km  radius_km    mag       mass_kg  \\\n",
      "group                                                                          \n",
      "Ananke      Thyone   641.000000   21431650.0      14.00  23.50           NaN   \n",
      "Carme      Taygete   767.000000   24147770.0      23.35  23.70           NaN   \n",
      "Galilean        Io    16.689018    1882700.0    2634.10   5.65  1.481900e+23   \n",
      "Hamilia   Lysithea   258.000000   11700710.0      21.00  18.20           NaN   \n",
      "Himalia     Pandia   287.000000   12118000.0      85.00  23.00  4.200000e+18   \n",
      "Inner        Thebe     0.670000     221889.0      83.50  14.10  2.080000e+18   \n",
      "Pasiphae    Sponde   787.000000   24583090.0      28.90  23.60           NaN   \n",
      "other     Themisto   456.000000   16989000.0       4.50  23.00           NaN   \n",
      "\n",
      "               ecc  inclination_deg  \n",
      "group                                \n",
      "Ananke    0.483724           154.80  \n",
      "Carme     0.302822           166.20  \n",
      "Galilean  0.009000             2.20  \n",
      "Hamilia   0.147873            26.30  \n",
      "Himalia   0.211000            30.61  \n",
      "Inner     0.017500             2.00  \n",
      "Pasiphae  0.611016           158.00  \n",
      "other     0.430000            51.40  , \n",
      "Mean:           period_days   distance_km    radius_km        mag       mass_kg  \\\n",
      "group                                                                       \n",
      "Ananke     616.076923  2.097923e+07     2.653846  22.330769           NaN   \n",
      "Carme      721.642857  2.329515e+07     3.275000  22.450000           NaN   \n",
      "Galilean     7.285050  1.011425e+06  2106.700000   5.142500  9.827541e+22   \n",
      "Hamilia    258.000000  1.170071e+07    21.000000  18.200000           NaN   \n",
      "Himalia    256.666667  1.156897e+07    23.458333  19.950000  4.200000e+18   \n",
      "Inner        0.439000  1.650722e+05    40.550000  14.100000  2.080000e+18   \n",
      "Pasiphae   744.083333  2.377494e+07     5.433333  21.750000           NaN   \n",
      "other      293.000000  1.219256e+07     3.000000  22.000000           NaN   \n",
      "\n",
      "               ecc  inclination_deg  \n",
      "group                                \n",
      "Ananke    0.233728       148.922308  \n",
      "Carme     0.240148       164.800000  \n",
      "Galilean  0.005450         2.052500  \n",
      "Hamilia   0.147873        26.300000  \n",
      "Himalia   0.166636        29.151667  \n",
      "Inner     0.005598         0.875000  \n",
      "Pasiphae  0.350750       150.600000  \n",
      "other     0.341106        48.350000  , \n",
      "Standard Deviation:           period_days   distance_km   radius_km       mag       mass_kg  \\\n",
      "group                                                                     \n",
      "Ananke      23.070405  5.461083e+05    3.490371  1.235843           NaN   \n",
      "Carme       29.684513  5.821236e+05    5.819819  1.143376           NaN   \n",
      "Galilean     6.659114  6.393567e+05  499.870830  0.438891  4.157837e+22   \n",
      "Hamilia           NaN           NaN         NaN       NaN           NaN   \n",
      "Himalia     15.870308  3.163477e+05   33.607446  3.575332           NaN   \n",
      "Inner        0.181589  4.535158e+04   33.294294       NaN           NaN   \n",
      "Pasiphae    26.956053  6.165425e+05    8.716477  2.112947           NaN   \n",
      "other      230.516811  6.783183e+06    2.121320  1.414214           NaN   \n",
      "\n",
      "               ecc  inclination_deg  \n",
      "group                                \n",
      "Ananke    0.089683         2.200296  \n",
      "Carme     0.040291         1.056846  \n",
      "Galilean  0.003438         0.194487  \n",
      "Hamilia        NaN              NaN  \n",
      "Himalia   0.041139         1.338961  \n",
      "Inner     0.008029         0.872792  \n",
      "Pasiphae  0.100519         5.087596  \n",
      "other     0.125716         4.313351  \n"
     ]
    },
    {
     "name": "stderr",
     "output_type": "stream",
     "text": [
      "/home/jovyan/Assessment 1 ISC/jupitermoonsclass.py:58: FutureWarning: The default value of numeric_only in DataFrameGroupBy.mean is deprecated. In a future version, numeric_only will default to False. Either specify numeric_only or select only columns which should be valid for the function.\n",
      "  print(f\"Data of group: Max: {self.data_grouped.max()}, \\nMean: {self.data_grouped.mean()}, \\nStandard Deviation: {self.data_grouped.std()}\")\n",
      "/home/jovyan/Assessment 1 ISC/jupitermoonsclass.py:58: FutureWarning: The default value of numeric_only in DataFrameGroupBy.std is deprecated. In a future version, numeric_only will default to False. Either specify numeric_only or select only columns which should be valid for the function.\n",
      "  print(f\"Data of group: Max: {self.data_grouped.max()}, \\nMean: {self.data_grouped.mean()}, \\nStandard Deviation: {self.data_grouped.std()}\")\n"
     ]
    }
   ],
   "source": [
    "moons.grouped_summary(group = \"group\")"
   ]
  },
  {
   "cell_type": "markdown",
   "id": "bad1cb09",
   "metadata": {},
   "source": [
    "Here we can see the maximum, mean, and standard deviation of the moons in each group (\"Inner\", \"Carme\", etc.)"
   ]
  },
  {
   "cell_type": "markdown",
   "id": "06a0cb02",
   "metadata": {},
   "source": [
    "To quickly return the maximum or minimum value of a specific variable, and the moon associated (and general information on it) we can use 'return_max' and 'return_min'."
   ]
  },
  {
   "cell_type": "code",
   "execution_count": 7,
   "id": "4a0753a0",
   "metadata": {},
   "outputs": [
    {
     "data": {
      "text/plain": [
       "moon                  Metis\n",
       "period_days            0.29\n",
       "distance_km        128000.0\n",
       "radius_km              21.5\n",
       "mag                     NaN\n",
       "mass_kg                 NaN\n",
       "group                 Inner\n",
       "ecc                  0.0002\n",
       "inclination_deg         2.0\n",
       "Name: 41, dtype: object"
      ]
     },
     "execution_count": 7,
     "metadata": {},
     "output_type": "execute_result"
    }
   ],
   "source": [
    "moons.return_min(\"distance_km\")"
   ]
  },
  {
   "cell_type": "code",
   "execution_count": 8,
   "id": "ef08964d",
   "metadata": {
    "scrolled": true
   },
   "outputs": [
    {
     "data": {
      "text/plain": [
       "moon                                 Ganymede\n",
       "period_days                              7.15\n",
       "distance_km                         1070400.0\n",
       "radius_km                              2634.1\n",
       "mag                                      4.61\n",
       "mass_kg            148190000000000004718592.0\n",
       "group                                Galilean\n",
       "ecc                                    0.0013\n",
       "inclination_deg                           2.2\n",
       "Name: 24, dtype: object"
      ]
     },
     "execution_count": 8,
     "metadata": {},
     "output_type": "execute_result"
    }
   ],
   "source": [
    "moons.return_max(\"radius_km\")"
   ]
  },
  {
   "cell_type": "markdown",
   "id": "3679534a",
   "metadata": {},
   "source": [
    "In order to extract particular information on a specific moon, we shall first have to know which moons are in the data set, for which we can use 'print_moons'."
   ]
  },
  {
   "cell_type": "code",
   "execution_count": 9,
   "id": "b5d28987",
   "metadata": {},
   "outputs": [
    {
     "name": "stdout",
     "output_type": "stream",
     "text": [
      "The moons in the dataset are \n",
      "0          Adrastea\n",
      "1             Aitne\n",
      "2          Amalthea\n",
      "3            Ananke\n",
      "4             Aoede\n",
      "5             Arche\n",
      "6           Autonoe\n",
      "7        Callirrhoe\n",
      "8          Callisto\n",
      "9             Carme\n",
      "10            Carpo\n",
      "11         Chaldene\n",
      "12          Cyllene\n",
      "13              Dia\n",
      "14           Eirene\n",
      "15            Elara\n",
      "16          Erinome\n",
      "17             Ersa\n",
      "18          Euanthe\n",
      "19         Eukelade\n",
      "20          Eupheme\n",
      "21          Euporie\n",
      "22           Europa\n",
      "23         Eurydome\n",
      "24         Ganymede\n",
      "25        Harpalyke\n",
      "26         Hegemone\n",
      "27           Helike\n",
      "28         Hermippe\n",
      "29            Herse\n",
      "30          Himalia\n",
      "31               Io\n",
      "32          Iocaste\n",
      "33           Isonoe\n",
      "34             Kale\n",
      "35       Kallichore\n",
      "36           Kalyke\n",
      "37             Kore\n",
      "38             Leda\n",
      "39         Lysithea\n",
      "40        Megaclite\n",
      "41            Metis\n",
      "42            Mneme\n",
      "43         Orthosie\n",
      "44           Pandia\n",
      "45         Pasiphae\n",
      "46         Pasithee\n",
      "47    Philophrosyne\n",
      "48        Praxidike\n",
      "49           Sinope\n",
      "50           Sponde\n",
      "51          Taygete\n",
      "52            Thebe\n",
      "53        Thelxinoe\n",
      "54         Themisto\n",
      "55           Thyone\n",
      "Name: moon, dtype: object.\n"
     ]
    }
   ],
   "source": [
    "moons.print_moons()"
   ]
  },
  {
   "cell_type": "markdown",
   "id": "2b24695d",
   "metadata": {},
   "source": [
    "Now to extract the information for a single specific moon we can use 'select_moon()' with the input being a moon contained in the data set, in string format (basically with \" \" )."
   ]
  },
  {
   "cell_type": "code",
   "execution_count": 10,
   "id": "13b71975",
   "metadata": {},
   "outputs": [
    {
     "name": "stdout",
     "output_type": "stream",
     "text": [
      "Moon selected: Ananke\n",
      "Moon Info: period_days             630.0\n",
      "distance_km        21300000.0\n",
      "radius_km                14.0\n",
      "mag                      18.9\n",
      "mass_kg                   NaN\n",
      "group                  Ananke\n",
      "ecc                  0.174725\n",
      "inclination_deg         148.6\n",
      "Name: Ananke, dtype: object\n"
     ]
    },
    {
     "name": "stderr",
     "output_type": "stream",
     "text": [
      "/home/jovyan/Assessment 1 ISC/jupitermoonsclass.py:32: UserWarning: Pandas doesn't allow columns to be created via a new attribute name - see https://pandas.pydata.org/pandas-docs/stable/indexing.html#attribute-access\n",
      "  self.data.moon_index = self.data.set_index(\"moon\")\n"
     ]
    }
   ],
   "source": [
    "moons.select_moon(\"Ananke\")"
   ]
  },
  {
   "cell_type": "markdown",
   "id": "c1c630ac",
   "metadata": {},
   "source": [
    "We can also calculate a correlation coefficient between two variables (i.e. columns) with 'correlation()'. As an input, we provide two columns/variables and the method used to calculate it.\n",
    "\n",
    "In the following example we took distance_km and period_days, and calculated the coefficient using the Pearson method. \n",
    "The possible methods are 'pearson', 'kendall', and 'spearman'."
   ]
  },
  {
   "cell_type": "code",
   "execution_count": 11,
   "id": "e7d89692",
   "metadata": {},
   "outputs": [
    {
     "name": "stdout",
     "output_type": "stream",
     "text": [
      "Correlation between distance_km and period_days: \n",
      "             distance_km  period_days\n",
      "distance_km     1.000000     0.991521\n",
      "period_days     0.991521     1.000000\n"
     ]
    }
   ],
   "source": [
    "moons.correlation(\"distance_km\",\"period_days\",\"pearson\")"
   ]
  },
  {
   "cell_type": "markdown",
   "id": "3d7ffd73",
   "metadata": {},
   "source": [
    "This is a remarkably high correlation coefficient, so we might expect a graph with a strong linear relationship."
   ]
  },
  {
   "cell_type": "markdown",
   "id": "8d6b9778",
   "metadata": {},
   "source": [
    "To visualise this, 'simple_plot()' can be used to plot two variables (of numerical type), such as, distance_km and period_days."
   ]
  },
  {
   "cell_type": "code",
   "execution_count": 12,
   "id": "53bc3d0d",
   "metadata": {},
   "outputs": [
    {
     "data": {
      "image/png": "[encoded data removed]",
      "text/plain": [
       "<Figure size 640x480 with 1 Axes>"
      ]
     },
     "metadata": {},
     "output_type": "display_data"
    }
   ],
   "source": [
    "moons.simple_plot(\"distance_km\",\"period_days\")"
   ]
  },
  {
   "cell_type": "markdown",
   "id": "62b59af4",
   "metadata": {},
   "source": [
    "Another example could be inclination_deg and distance_km."
   ]
  },
  {
   "cell_type": "code",
   "execution_count": 13,
   "id": "4a5678a8",
   "metadata": {},
   "outputs": [
    {
     "data": {
      "image/png": "[encoded data removed]",
      "text/plain": [
       "<Figure size 640x480 with 1 Axes>"
      ]
     },
     "metadata": {},
     "output_type": "display_data"
    }
   ],
   "source": [
    "moons.simple_plot(\"inclination_deg\", \"distance_km\")"
   ]
  },
  {
   "cell_type": "markdown",
   "id": "b2829fdf",
   "metadata": {},
   "source": [
    "In the graph above we can see less of an obvious correlation than the plot before. This could help too intuitively assess correlation between variables. If we also print out the corrrelation coefficient we can see it is less than the distance_km/period_days one as well. (0.772912 < 0.991521)"
   ]
  },
  {
   "cell_type": "code",
   "execution_count": 14,
   "id": "3993557d",
   "metadata": {
    "scrolled": true
   },
   "outputs": [
    {
     "name": "stdout",
     "output_type": "stream",
     "text": [
      "Correlation between inclination_deg and distance_km: \n",
      "                 inclination_deg  distance_km\n",
      "inclination_deg         1.000000     0.772912\n",
      "distance_km             0.772912     1.000000\n"
     ]
    }
   ],
   "source": [
    "moons.correlation(\"inclination_deg\", \"distance_km\", \"spearman\")"
   ]
  },
  {
   "cell_type": "markdown",
   "id": "835e8a0a",
   "metadata": {},
   "source": [
    "Overall we can see general information on 56 moons, with most columns not having any missing values. The column mass_kg has a lot of missing values, which is rather unexpected as if it is possible to work it out for one moon (and there are 6 non-null entries) it should be possible for the other moons.\n",
    "Generally, there are 9 columns, and 56 rows, it is quite complete except the column mentioned previously, and seems to be reasonable for what one might expect."
   ]
  },
  {
   "cell_type": "markdown",
   "id": "062c9933",
   "metadata": {},
   "source": [
    "#### ~ Task 2 ~             (as a continuation of Task 1)"
   ]
  },
  {
   "cell_type": "markdown",
   "id": "a998f60e",
   "metadata": {},
   "source": [
    "Now we shall use the Jupiter's Moons dataset and the equation from Kepler's Third Law to calculate an estimate for the mass of the planet Jupiter. Kepler's Third Law is T^2 = ((4 * pi^2) / G * M ) * a^3\n",
    "Where:\n",
    " - T = orbital period\n",
    " - a = semi-major axis (for which we use distance_km)\n",
    " - G = Gravitational constant\n",
    " - M = Mass"
   ]
  },
  {
   "cell_type": "markdown",
   "id": "57ef700e",
   "metadata": {},
   "source": [
    "For this we shall prepare a linear regression model to calculate the constant of proportionality between T^2 and a^3, and use it to find Jupiter's Mass."
   ]
  },
  {
   "cell_type": "markdown",
   "id": "54a29431",
   "metadata": {},
   "source": [
    "First of all, we shall have to convert the variables to the appropriate units of seconds and metres, as those are the units the gravitational constant is in. To do this we can use 'convert_units_and_split'. This also splits our two variables into training and test data sets."
   ]
  },
  {
   "cell_type": "code",
   "execution_count": 16,
   "id": "622f5613",
   "metadata": {},
   "outputs": [
    {
     "name": "stdout",
     "output_type": "stream",
     "text": [
      "'period_days' column has been converted to seconds, and 'distance_km' column has been converted to metres.\n",
      "Both have been concatenated to dataframe as additional columns.\n"
     ]
    }
   ],
   "source": [
    "moons.convert_units_and_split()"
   ]
  },
  {
   "cell_type": "markdown",
   "id": "1a9dc9f6",
   "metadata": {},
   "source": [
    "Now we train the model on the training data set, which will later give us a model coefficient."
   ]
  },
  {
   "cell_type": "code",
   "execution_count": 18,
   "id": "a52348ba",
   "metadata": {},
   "outputs": [],
   "source": [
    "moons.train_model()"
   ]
  },
  {
   "cell_type": "markdown",
   "id": "a199b659",
   "metadata": {},
   "source": [
    "Let's have a quick look at how valid our model is, which we can do with a visual, intuitive assessment. For this we shall use 'validate_model'"
   ]
  },
  {
   "cell_type": "code",
   "execution_count": 19,
   "id": "b96addea",
   "metadata": {
    "scrolled": true
   },
   "outputs": [
    {
     "name": "stdout",
     "output_type": "stream",
     "text": [
      "Visually assess two plots.\n",
      "Scatter plot of the test data agaisnt the predictions we produced from training (the model),\n",
      "and the Residual plot.\n"
     ]
    },
    {
     "data": {
      "image/png": "[encoded data removed]",
      "text/plain": [
       "<Figure size 640x480 with 1 Axes>"
      ]
     },
     "metadata": {},
     "output_type": "display_data"
    },
    {
     "data": {
      "image/png": "[encoded data removed]",
      "text/plain": [
       "<Figure size 640x480 with 1 Axes>"
      ]
     },
     "metadata": {},
     "output_type": "display_data"
    }
   ],
   "source": [
    "moons.validate_model()"
   ]
  },
  {
   "cell_type": "markdown",
   "id": "05049a47",
   "metadata": {},
   "source": [
    "Here we can see the scatter plot (of test data against the predictions) shows a strong linear relationship, as if it could very easily fit a straight line, which shows our model is very good - predictions and test data line up well. In addition, the residual plot shows a fairy equal distribution of points above and below the horizontal line, which further shows the success of our model."
   ]
  },
  {
   "cell_type": "markdown",
   "id": "511637a6",
   "metadata": {},
   "source": [
    "Now that we have trained and assessed the model, we can find the required model coefficient, as well as some more information regarding its performance, using 'model_info'"
   ]
  },
  {
   "cell_type": "code",
   "execution_count": 20,
   "id": "88a69446",
   "metadata": {},
   "outputs": [
    {
     "name": "stdout",
     "output_type": "stream",
     "text": [
      "The model coefficient is 3.10779319167799e-16 and the model intercept is -7475037878782.0\n",
      "The model's R2 score is 0.9874698094589167, and the Mean Squared Error is 198563640235260.8\n"
     ]
    }
   ],
   "source": [
    "moons.model_info()"
   ]
  },
  {
   "cell_type": "markdown",
   "id": "a8c3fff3",
   "metadata": {},
   "source": [
    "Here we can see that the R2 score is remarkably high (it is measured between 0 and 1), and in scientific studies, the R-squared may need to be above 0.95 for a regression model to be considered reliable, which it is in this case. Our MSE (Mean Squared Error) is small compared to the values used in the training/test data sets (i.e. something times 10^31), which also shows a good accurateness within our model. Thus we can proceed to calculating the mass of Jupiter."
   ]
  },
  {
   "cell_type": "markdown",
   "id": "380a43cd",
   "metadata": {},
   "source": [
    "We shall equate the constant of proportionality to (4*(pi**2))/(our model coefficient*gravitational constant), and find the mass. We can use 'calculate_Jupiters_mass' for this."
   ]
  },
  {
   "cell_type": "code",
   "execution_count": 22,
   "id": "941f5d2d",
   "metadata": {},
   "outputs": [
    {
     "name": "stdout",
     "output_type": "stream",
     "text": [
      "The Mass of Jupiter is 1.9045035734306245e+27 in kg.\n"
     ]
    }
   ],
   "source": [
    "moons.calculate_Jupiters_mass()"
   ]
  },
  {
   "cell_type": "markdown",
   "id": "3c6e80c1",
   "metadata": {},
   "source": [
    "The textbook value of Jupiter's mass is 1.89813e+27, so our estimate is very accurate."
   ]
  }
 ],
 "metadata": {
  "kernelspec": {
   "display_name": "Python 3 (ipykernel)",
   "language": "python",
   "name": "python3"
  },
  "language_info": {
   "codemirror_mode": {
    "name": "ipython",
    "version": 3
   },
   "file_extension": ".py",
   "mimetype": "text/x-python",
   "name": "python",
   "nbconvert_exporter": "python",
   "pygments_lexer": "ipython3",
   "version": "3.9.13"
  }
 },
 "nbformat": 4,
 "nbformat_minor": 5
}
